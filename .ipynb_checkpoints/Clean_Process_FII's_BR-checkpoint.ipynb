{
 "cells": [
  {
   "cell_type": "code",
   "execution_count": 1,
   "id": "971ead54",
   "metadata": {},
   "outputs": [
    {
     "data": {
      "text/html": [
       "<style>.container { width:90% !important; }</style>"
      ],
      "text/plain": [
       "<IPython.core.display.HTML object>"
      ]
     },
     "metadata": {},
     "output_type": "display_data"
    }
   ],
   "source": [
    "import pandas as pd\n",
    "import warnings\n",
    "warnings.filterwarnings('ignore')\n",
    "\n",
    "from IPython.display import display\n",
    "pd.options.display.max_columns = None\n",
    "\n",
    "from IPython.core.display import display, HTML\n",
    "display(HTML(\"<style>.container { width:90% !important; }</style>\"))"
   ]
  },
  {
   "cell_type": "code",
   "execution_count": 2,
   "id": "ba3bc828",
   "metadata": {},
   "outputs": [],
   "source": [
    "df = pd.read_csv('Data/29-06-22.csv')"
   ]
  },
  {
   "cell_type": "code",
   "execution_count": 3,
   "id": "6cb90b0c",
   "metadata": {
    "scrolled": true
   },
   "outputs": [
    {
     "data": {
      "text/plain": [
       "Unnamed: 0                   0\n",
       "Códigodo fundo               1\n",
       "Setor                        5\n",
       "Preço Atual                  9\n",
       "Liquidez Diária              9\n",
       "Dividendo                    1\n",
       "DividendYield                7\n",
       "DY (3M)Acumulado             7\n",
       "DY (6M)Acumulado             7\n",
       "DY (12M)Acumulado            7\n",
       "DY (3M)Média                 7\n",
       "DY (6M)Média                 7\n",
       "DY (12M)Média                7\n",
       "DY Ano                      20\n",
       "Variação Preço               7\n",
       "Rentab.Período               7\n",
       "Rentab.Acumulada             7\n",
       "PatrimônioLíq.               1\n",
       "VPA                          1\n",
       "P/VPA                        9\n",
       "DYPatrimonial               41\n",
       "VariaçãoPatrimonial         41\n",
       "Rentab. Patr.no Período     41\n",
       "Rentab. Patr.Acumulada      41\n",
       "VacânciaFísica             160\n",
       "VacânciaFinanceira         253\n",
       "QuantidadeAtivos             1\n",
       "dtype: int64"
      ]
     },
     "execution_count": 3,
     "metadata": {},
     "output_type": "execute_result"
    }
   ],
   "source": [
    "df.isna().sum()"
   ]
  },
  {
   "cell_type": "code",
   "execution_count": 4,
   "id": "81d47ab7",
   "metadata": {},
   "outputs": [],
   "source": [
    "columns_to_delete = ['Unnamed: 0', 'DY (3M)Acumulado', 'DY (6M)Acumulado', 'DY (3M)Média', 'DY (6M)Média', 'DY Ano', 'VPA', \n",
    "                     'DYPatrimonial', 'VariaçãoPatrimonial', 'Rentab. Patr.no Período', 'VacânciaFinanceira']\n",
    "df2 = df.drop(columns=columns_to_delete)"
   ]
  },
  {
   "cell_type": "code",
   "execution_count": 5,
   "id": "a70a08d2",
   "metadata": {},
   "outputs": [],
   "source": [
    "#df2.drop(0, inplace=True)"
   ]
  },
  {
   "cell_type": "code",
   "execution_count": 6,
   "id": "2dd19a53",
   "metadata": {},
   "outputs": [],
   "source": [
    "#df2.fillna(0, inplace=True)"
   ]
  },
  {
   "cell_type": "code",
   "execution_count": 7,
   "id": "561a774e",
   "metadata": {},
   "outputs": [],
   "source": [
    "col_names = {\n",
    "    'Códigodo fundo': 'Codigo',\n",
    "    'Preço Atual': 'Preco_Atual',\n",
    "    'Liquidez Diária': 'Liquidez_Diaria',\n",
    "    'DividendYield': 'DY%',\n",
    "    'DY (12M)Acumulado': 'DY%_12M_AC',\n",
    "    'DY (12M)Média': 'DY%_12M_AVG',\n",
    "    'DY Ano': 'DY%_Ano',\n",
    "    'Variação Preço': 'Var_Preco_%',\n",
    "    'Rentab.Período': 'Rent_Periodo_%',\n",
    "    'Rentab.Acumulada': 'Rent_AC_%',\n",
    "    'PatrimônioLíq.': 'PL',\n",
    "    'P/VPA': 'P_VPA',\n",
    "    'Rentab. Patr.Acumulada': 'Rent_Patr_AC',\n",
    "    'VacânciaFísica': 'Vac_Fisica',\n",
    "    'QuantidadeAtivos': 'Quant_Ativos'\n",
    "}"
   ]
  },
  {
   "cell_type": "code",
   "execution_count": 8,
   "id": "659de754",
   "metadata": {},
   "outputs": [],
   "source": [
    "df2.rename(columns=col_names, inplace=True)"
   ]
  },
  {
   "cell_type": "code",
   "execution_count": 9,
   "id": "50aa916a",
   "metadata": {},
   "outputs": [],
   "source": [
    "#df2[df2.duplicated()]"
   ]
  },
  {
   "cell_type": "code",
   "execution_count": 10,
   "id": "725132a7",
   "metadata": {},
   "outputs": [],
   "source": [
    "#print(df2.isna().sum()/len(df2))"
   ]
  },
  {
   "cell_type": "code",
   "execution_count": 19,
   "id": "459f9266",
   "metadata": {},
   "outputs": [
    {
     "data": {
      "text/plain": [
       "Codigo             0\n",
       "Setor              0\n",
       "Preco_Atual        0\n",
       "Liquidez_Diaria    0\n",
       "Dividendo          0\n",
       "DY%                0\n",
       "DY%_12M_AC         0\n",
       "DY%_12M_AVG        0\n",
       "Var_Preco_%        0\n",
       "Rent_Periodo_%     0\n",
       "Rent_AC_%          0\n",
       "PL                 0\n",
       "P_VPA              0\n",
       "Rent_Patr_AC       0\n",
       "Vac_Fisica         0\n",
       "Quant_Ativos       0\n",
       "dtype: int64"
      ]
     },
     "execution_count": 19,
     "metadata": {},
     "output_type": "execute_result"
    }
   ],
   "source": [
    "df2.isna().sum()"
   ]
  },
  {
   "cell_type": "code",
   "execution_count": 12,
   "id": "76c2e9a2",
   "metadata": {},
   "outputs": [],
   "source": [
    "df2.dropna(subset=['Preco_Atual'], inplace=True)"
   ]
  },
  {
   "cell_type": "code",
   "execution_count": 13,
   "id": "a9f56a08",
   "metadata": {},
   "outputs": [],
   "source": [
    "df2[['Setor']] = df2[['Setor']].fillna('not_defined')\n",
    "df2[['DY%', 'DY%_12M_AC', 'DY%_12M_AVG', 'Var_Preco_%',\n",
    "     'Rent_Periodo_%', 'Rent_AC_%', 'Rent_Patr_AC',\n",
    "     'Vac_Fisica']] = df2[['DY%', 'DY%_12M_AC',\n",
    "                           'DY%_12M_AVG', 'Var_Preco_%', 'Rent_Periodo_%',\n",
    "                           'Rent_AC_%', 'Rent_Patr_AC', 'Vac_Fisica']].fillna('0.00')"
   ]
  },
  {
   "cell_type": "code",
   "execution_count": 20,
   "id": "0f9d75e0",
   "metadata": {},
   "outputs": [],
   "source": [
    "indexDividendo = df2[ df2['Dividendo'] == 0 ].index\n",
    "df2.drop(indexDividendo, inplace=True)"
   ]
  },
  {
   "cell_type": "code",
   "execution_count": 15,
   "id": "6ed0344b",
   "metadata": {},
   "outputs": [],
   "source": [
    "df2.iloc[:, 2:] = df2.iloc[:, 2:].applymap(\n",
    "    lambda x: float(\n",
    "        x.replace('%', '').replace('R$', '').replace('.', '').replace(',','.')) if isinstance(x, str) else x)"
   ]
  },
  {
   "cell_type": "code",
   "execution_count": 22,
   "id": "96315d43",
   "metadata": {},
   "outputs": [
    {
     "data": {
      "text/plain": [
       "Codigo              object\n",
       "Setor               object\n",
       "Preco_Atual        float64\n",
       "Liquidez_Diaria    float64\n",
       "Dividendo          float64\n",
       "DY%                float64\n",
       "DY%_12M_AC         float64\n",
       "DY%_12M_AVG        float64\n",
       "Var_Preco_%        float64\n",
       "Rent_Periodo_%     float64\n",
       "Rent_AC_%          float64\n",
       "PL                 float64\n",
       "P_VPA              float64\n",
       "Rent_Patr_AC       float64\n",
       "Vac_Fisica         float64\n",
       "Quant_Ativos       float64\n",
       "dtype: object"
      ]
     },
     "execution_count": 22,
     "metadata": {},
     "output_type": "execute_result"
    }
   ],
   "source": [
    "df2.dtypes"
   ]
  },
  {
   "cell_type": "code",
   "execution_count": 24,
   "id": "68c9975b",
   "metadata": {},
   "outputs": [
    {
     "data": {
      "text/html": [
       "<div>\n",
       "<style scoped>\n",
       "    .dataframe tbody tr th:only-of-type {\n",
       "        vertical-align: middle;\n",
       "    }\n",
       "\n",
       "    .dataframe tbody tr th {\n",
       "        vertical-align: top;\n",
       "    }\n",
       "\n",
       "    .dataframe thead th {\n",
       "        text-align: right;\n",
       "    }\n",
       "</style>\n",
       "<table border=\"1\" class=\"dataframe\">\n",
       "  <thead>\n",
       "    <tr style=\"text-align: right;\">\n",
       "      <th></th>\n",
       "      <th>Codigo</th>\n",
       "      <th>Setor</th>\n",
       "      <th>Preco_Atual</th>\n",
       "      <th>Liquidez_Diaria</th>\n",
       "      <th>Dividendo</th>\n",
       "      <th>DY%</th>\n",
       "      <th>DY%_12M_AC</th>\n",
       "      <th>DY%_12M_AVG</th>\n",
       "      <th>Var_Preco_%</th>\n",
       "      <th>Rent_Periodo_%</th>\n",
       "      <th>Rent_AC_%</th>\n",
       "      <th>PL</th>\n",
       "      <th>P_VPA</th>\n",
       "      <th>Rent_Patr_AC</th>\n",
       "      <th>Vac_Fisica</th>\n",
       "      <th>Quant_Ativos</th>\n",
       "    </tr>\n",
       "  </thead>\n",
       "  <tbody>\n",
       "    <tr>\n",
       "      <th>6</th>\n",
       "      <td>ORPD11</td>\n",
       "      <td>Títulos e Val. Mob.</td>\n",
       "      <td>93.00</td>\n",
       "      <td>3.0</td>\n",
       "      <td>1.38</td>\n",
       "      <td>0.00</td>\n",
       "      <td>0.00</td>\n",
       "      <td>0.00</td>\n",
       "      <td>0.00</td>\n",
       "      <td>0.00</td>\n",
       "      <td>0.00</td>\n",
       "      <td>4.361109e+07</td>\n",
       "      <td>0.62</td>\n",
       "      <td>0.00</td>\n",
       "      <td>0.00</td>\n",
       "      <td>0.0</td>\n",
       "    </tr>\n",
       "    <tr>\n",
       "      <th>7</th>\n",
       "      <td>FISC11</td>\n",
       "      <td>Lajes Corporativas</td>\n",
       "      <td>165.00</td>\n",
       "      <td>200.0</td>\n",
       "      <td>0.22</td>\n",
       "      <td>0.00</td>\n",
       "      <td>0.00</td>\n",
       "      <td>0.00</td>\n",
       "      <td>0.00</td>\n",
       "      <td>0.00</td>\n",
       "      <td>0.00</td>\n",
       "      <td>1.946826e+08</td>\n",
       "      <td>1.44</td>\n",
       "      <td>0.00</td>\n",
       "      <td>0.00</td>\n",
       "      <td>0.0</td>\n",
       "    </tr>\n",
       "    <tr>\n",
       "      <th>8</th>\n",
       "      <td>NSLU11</td>\n",
       "      <td>Hospital</td>\n",
       "      <td>137.12</td>\n",
       "      <td>2970.0</td>\n",
       "      <td>1.54</td>\n",
       "      <td>0.76</td>\n",
       "      <td>9.49</td>\n",
       "      <td>0.79</td>\n",
       "      <td>0.00</td>\n",
       "      <td>0.76</td>\n",
       "      <td>0.76</td>\n",
       "      <td>2.380284e+08</td>\n",
       "      <td>0.66</td>\n",
       "      <td>0.00</td>\n",
       "      <td>0.00</td>\n",
       "      <td>1.0</td>\n",
       "    </tr>\n",
       "    <tr>\n",
       "      <th>9</th>\n",
       "      <td>ATSA11</td>\n",
       "      <td>Shoppings</td>\n",
       "      <td>88.70</td>\n",
       "      <td>12.0</td>\n",
       "      <td>0.25</td>\n",
       "      <td>0.18</td>\n",
       "      <td>2.97</td>\n",
       "      <td>0.25</td>\n",
       "      <td>0.74</td>\n",
       "      <td>0.92</td>\n",
       "      <td>1.10</td>\n",
       "      <td>1.566117e+08</td>\n",
       "      <td>0.99</td>\n",
       "      <td>0.00</td>\n",
       "      <td>21.90</td>\n",
       "      <td>1.0</td>\n",
       "    </tr>\n",
       "    <tr>\n",
       "      <th>10</th>\n",
       "      <td>CXTL11</td>\n",
       "      <td>Logística</td>\n",
       "      <td>306.00</td>\n",
       "      <td>10.0</td>\n",
       "      <td>0.48</td>\n",
       "      <td>0.16</td>\n",
       "      <td>0.00</td>\n",
       "      <td>0.00</td>\n",
       "      <td>-6.12</td>\n",
       "      <td>-5.97</td>\n",
       "      <td>-5.73</td>\n",
       "      <td>3.705259e+07</td>\n",
       "      <td>0.44</td>\n",
       "      <td>0.00</td>\n",
       "      <td>61.00</td>\n",
       "      <td>3.0</td>\n",
       "    </tr>\n",
       "    <tr>\n",
       "      <th>...</th>\n",
       "      <td>...</td>\n",
       "      <td>...</td>\n",
       "      <td>...</td>\n",
       "      <td>...</td>\n",
       "      <td>...</td>\n",
       "      <td>...</td>\n",
       "      <td>...</td>\n",
       "      <td>...</td>\n",
       "      <td>...</td>\n",
       "      <td>...</td>\n",
       "      <td>...</td>\n",
       "      <td>...</td>\n",
       "      <td>...</td>\n",
       "      <td>...</td>\n",
       "      <td>...</td>\n",
       "      <td>...</td>\n",
       "    </tr>\n",
       "    <tr>\n",
       "      <th>278</th>\n",
       "      <td>CCRF11</td>\n",
       "      <td>Títulos e Val. Mob.</td>\n",
       "      <td>99.60</td>\n",
       "      <td>4.0</td>\n",
       "      <td>0.74</td>\n",
       "      <td>0.74</td>\n",
       "      <td>0.00</td>\n",
       "      <td>0.00</td>\n",
       "      <td>-0.10</td>\n",
       "      <td>0.64</td>\n",
       "      <td>5.74</td>\n",
       "      <td>1.593647e+08</td>\n",
       "      <td>0.98</td>\n",
       "      <td>4.87</td>\n",
       "      <td>0.00</td>\n",
       "      <td>0.0</td>\n",
       "    </tr>\n",
       "    <tr>\n",
       "      <th>279</th>\n",
       "      <td>EQIR11</td>\n",
       "      <td>Títulos e Val. Mob.</td>\n",
       "      <td>94.55</td>\n",
       "      <td>19.0</td>\n",
       "      <td>1.10</td>\n",
       "      <td>1.13</td>\n",
       "      <td>0.00</td>\n",
       "      <td>0.00</td>\n",
       "      <td>-2.65</td>\n",
       "      <td>-1.55</td>\n",
       "      <td>4.54</td>\n",
       "      <td>5.124036e+07</td>\n",
       "      <td>0.93</td>\n",
       "      <td>2.46</td>\n",
       "      <td>0.00</td>\n",
       "      <td>0.0</td>\n",
       "    </tr>\n",
       "    <tr>\n",
       "      <th>280</th>\n",
       "      <td>CNES11</td>\n",
       "      <td>Lajes Corporativas</td>\n",
       "      <td>33.06</td>\n",
       "      <td>341.0</td>\n",
       "      <td>0.09</td>\n",
       "      <td>0.27</td>\n",
       "      <td>3.59</td>\n",
       "      <td>0.30</td>\n",
       "      <td>0.29</td>\n",
       "      <td>0.56</td>\n",
       "      <td>4.86</td>\n",
       "      <td>2.553190e+08</td>\n",
       "      <td>0.38</td>\n",
       "      <td>0.20</td>\n",
       "      <td>56.70</td>\n",
       "      <td>1.0</td>\n",
       "    </tr>\n",
       "    <tr>\n",
       "      <th>281</th>\n",
       "      <td>BTRA11</td>\n",
       "      <td>Outros</td>\n",
       "      <td>84.97</td>\n",
       "      <td>9325.0</td>\n",
       "      <td>0.70</td>\n",
       "      <td>0.85</td>\n",
       "      <td>0.00</td>\n",
       "      <td>0.00</td>\n",
       "      <td>-19.34</td>\n",
       "      <td>-18.66</td>\n",
       "      <td>-12.21</td>\n",
       "      <td>3.476122e+08</td>\n",
       "      <td>0.82</td>\n",
       "      <td>2.67</td>\n",
       "      <td>0.00</td>\n",
       "      <td>0.0</td>\n",
       "    </tr>\n",
       "    <tr>\n",
       "      <th>282</th>\n",
       "      <td>EDGA11</td>\n",
       "      <td>Lajes Corporativas</td>\n",
       "      <td>17.80</td>\n",
       "      <td>1724.0</td>\n",
       "      <td>0.16</td>\n",
       "      <td>0.89</td>\n",
       "      <td>7.16</td>\n",
       "      <td>0.60</td>\n",
       "      <td>-6.88</td>\n",
       "      <td>-6.05</td>\n",
       "      <td>-14.31</td>\n",
       "      <td>2.523515e+08</td>\n",
       "      <td>0.27</td>\n",
       "      <td>0.36</td>\n",
       "      <td>48.81</td>\n",
       "      <td>1.0</td>\n",
       "    </tr>\n",
       "  </tbody>\n",
       "</table>\n",
       "<p>261 rows × 16 columns</p>\n",
       "</div>"
      ],
      "text/plain": [
       "     Codigo                Setor  Preco_Atual  Liquidez_Diaria  Dividendo  \\\n",
       "6    ORPD11  Títulos e Val. Mob.        93.00              3.0       1.38   \n",
       "7    FISC11   Lajes Corporativas       165.00            200.0       0.22   \n",
       "8    NSLU11             Hospital       137.12           2970.0       1.54   \n",
       "9    ATSA11            Shoppings        88.70             12.0       0.25   \n",
       "10   CXTL11            Logística       306.00             10.0       0.48   \n",
       "..      ...                  ...          ...              ...        ...   \n",
       "278  CCRF11  Títulos e Val. Mob.        99.60              4.0       0.74   \n",
       "279  EQIR11  Títulos e Val. Mob.        94.55             19.0       1.10   \n",
       "280  CNES11   Lajes Corporativas        33.06            341.0       0.09   \n",
       "281  BTRA11               Outros        84.97           9325.0       0.70   \n",
       "282  EDGA11   Lajes Corporativas        17.80           1724.0       0.16   \n",
       "\n",
       "      DY%  DY%_12M_AC  DY%_12M_AVG  Var_Preco_%  Rent_Periodo_%  Rent_AC_%  \\\n",
       "6    0.00        0.00         0.00         0.00            0.00       0.00   \n",
       "7    0.00        0.00         0.00         0.00            0.00       0.00   \n",
       "8    0.76        9.49         0.79         0.00            0.76       0.76   \n",
       "9    0.18        2.97         0.25         0.74            0.92       1.10   \n",
       "10   0.16        0.00         0.00        -6.12           -5.97      -5.73   \n",
       "..    ...         ...          ...          ...             ...        ...   \n",
       "278  0.74        0.00         0.00        -0.10            0.64       5.74   \n",
       "279  1.13        0.00         0.00        -2.65           -1.55       4.54   \n",
       "280  0.27        3.59         0.30         0.29            0.56       4.86   \n",
       "281  0.85        0.00         0.00       -19.34          -18.66     -12.21   \n",
       "282  0.89        7.16         0.60        -6.88           -6.05     -14.31   \n",
       "\n",
       "               PL  P_VPA  Rent_Patr_AC  Vac_Fisica  Quant_Ativos  \n",
       "6    4.361109e+07   0.62          0.00        0.00           0.0  \n",
       "7    1.946826e+08   1.44          0.00        0.00           0.0  \n",
       "8    2.380284e+08   0.66          0.00        0.00           1.0  \n",
       "9    1.566117e+08   0.99          0.00       21.90           1.0  \n",
       "10   3.705259e+07   0.44          0.00       61.00           3.0  \n",
       "..            ...    ...           ...         ...           ...  \n",
       "278  1.593647e+08   0.98          4.87        0.00           0.0  \n",
       "279  5.124036e+07   0.93          2.46        0.00           0.0  \n",
       "280  2.553190e+08   0.38          0.20       56.70           1.0  \n",
       "281  3.476122e+08   0.82          2.67        0.00           0.0  \n",
       "282  2.523515e+08   0.27          0.36       48.81           1.0  \n",
       "\n",
       "[261 rows x 16 columns]"
      ]
     },
     "execution_count": 24,
     "metadata": {},
     "output_type": "execute_result"
    }
   ],
   "source": [
    "df2"
   ]
  },
  {
   "cell_type": "code",
   "execution_count": 18,
   "id": "dae1ab3a",
   "metadata": {},
   "outputs": [],
   "source": [
    "df2.to_csv('Data/clean_data.csv')"
   ]
  },
  {
   "cell_type": "code",
   "execution_count": null,
   "id": "8bb48860",
   "metadata": {},
   "outputs": [],
   "source": []
  }
 ],
 "metadata": {
  "kernelspec": {
   "display_name": "Python 3",
   "language": "python",
   "name": "python3"
  },
  "language_info": {
   "codemirror_mode": {
    "name": "ipython",
    "version": 3
   },
   "file_extension": ".py",
   "mimetype": "text/x-python",
   "name": "python",
   "nbconvert_exporter": "python",
   "pygments_lexer": "ipython3",
   "version": "3.8.8"
  }
 },
 "nbformat": 4,
 "nbformat_minor": 5
}
