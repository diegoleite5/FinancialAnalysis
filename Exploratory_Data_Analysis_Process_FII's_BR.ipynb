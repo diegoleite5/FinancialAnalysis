{
 "cells": [
  {
   "cell_type": "code",
   "execution_count": 2,
   "id": "0b6ef45e",
   "metadata": {},
   "outputs": [],
   "source": [
    "#!pip install plotly"
   ]
  },
  {
   "cell_type": "code",
   "execution_count": 5,
   "id": "4e702ff7",
   "metadata": {},
   "outputs": [],
   "source": [
    "import plotly.express as px\n",
    "import pandas as pd"
   ]
  },
  {
   "cell_type": "code",
   "execution_count": 6,
   "id": "0616a325",
   "metadata": {},
   "outputs": [],
   "source": [
    "df = pd.read_csv('Data/clean_data.csv')"
   ]
  },
  {
   "cell_type": "code",
   "execution_count": 13,
   "id": "d5ee9645",
   "metadata": {},
   "outputs": [
    {
     "data": {
      "application/vnd.plotly.v1+json": {
       "config": {
        "plotlyServerURL": "https://plot.ly"
       },
       "data": [
        {
         "customdata": [
          [
           "APTO11"
          ],
          [
           "PABY11"
          ],
          [
           "CXRI11"
          ],
          [
           "FATN11"
          ],
          [
           "BREV11"
          ],
          [
           "BRCR11"
          ],
          [
           "DVFF11"
          ],
          [
           "RECT11"
          ],
          [
           "RELG11"
          ],
          [
           "CPFF11"
          ],
          [
           "GAME11"
          ],
          [
           "IRIM11"
          ],
          [
           "BRLA11"
          ],
          [
           "HRDF11"
          ],
          [
           "CARE11"
          ],
          [
           "VJFD11"
          ],
          [
           "WTSP11B"
          ],
          [
           "ARCT11"
          ],
          [
           "CORM11"
          ],
          [
           "ERCR11"
          ],
          [
           "VVPR11"
          ],
          [
           "JSRE11"
          ],
          [
           "HGRU11"
          ],
          [
           "RBRD11"
          ],
          [
           "CACR11"
          ],
          [
           "QAMI11"
          ],
          [
           "RZTR11"
          ],
          [
           "PATL11"
          ],
          [
           "EVBI11"
          ],
          [
           "FIIB11"
          ],
          [
           "RBRS11"
          ],
          [
           "HSRE11"
          ],
          [
           "IDFI11"
          ],
          [
           "MFII11"
          ],
          [
           "PLCR11"
          ],
          [
           "SARE11"
          ],
          [
           "KNRI11"
          ],
          [
           "KNRI11"
          ],
          [
           "MXRF11"
          ],
          [
           "HOSI11"
          ],
          [
           "HBRH11"
          ],
          [
           "NEWL11"
          ],
          [
           "STRX11"
          ],
          [
           "GALG11"
          ],
          [
           "MFAI11"
          ]
         ],
         "hovertemplate": "Setor=Híbrido<br>PL=%{x}<br>Rent_AC_%=%{y}<br>Codigo=%{customdata[0]}<extra></extra>",
         "legendgroup": "Híbrido",
         "marker": {
          "color": "#636efa",
          "symbol": "circle"
         },
         "mode": "markers",
         "name": "Híbrido",
         "orientation": "v",
         "showlegend": true,
         "type": "scatter",
         "x": [
          9494846.65,
          -8246025.21,
          138937265.23,
          81279152.95,
          101663227.02,
          2828515163.3,
          103014517.94,
          753333282.94,
          127381730.29,
          412802106.88,
          205123675.99,
          129732965.13,
          240018351.65,
          9430355.64,
          284911633.61,
          649310196.78,
          79009528.93,
          164876366.56,
          85361211.11,
          177302795.7,
          238520413.19,
          2351705389.52,
          2178829394.48,
          133675336.89,
          153985328.53,
          73099914.93,
          1114567220.92,
          473626965.64,
          109832723.37,
          303500566.33,
          129875170.09,
          830837526.52,
          209298712.63,
          420575995.6,
          195407902.15,
          917117685.29,
          3797979053.02,
          3797979053.02,
          2281190098.57,
          52954421.98,
          295750933.66,
          235152808.21,
          296599177.07,
          576127116.17,
          23348175.37
         ],
         "xaxis": "x",
         "y": [
          0,
          -31.62,
          -35.12,
          6.71,
          -11.89,
          -10.28,
          18.3,
          -17.99,
          -8.82,
          -8.28,
          1.04,
          3.88,
          -3.45,
          0,
          5.65,
          0,
          -3.6,
          -14.66,
          1.17,
          -1.42,
          0.37,
          -10.88,
          -1.15,
          -40.1,
          10.28,
          7.06,
          5.15,
          -12.9,
          2.38,
          -5.03,
          -25.35,
          5.42,
          3.61,
          -5.66,
          10.23,
          -19.02,
          -5.66,
          -5.66,
          3.34,
          -7.43,
          -2.98,
          3.62,
          0,
          1.8,
          -30.62
         ],
         "yaxis": "y"
        },
        {
         "customdata": [
          [
           "FIVN11"
          ],
          [
           "SCPF11"
          ],
          [
           "JRDM11"
          ],
          [
           "ATSA11"
          ],
          [
           "GSFI11"
          ],
          [
           "BPML11"
          ],
          [
           "XPML11"
          ],
          [
           "FLRP11"
          ],
          [
           "VSHO11"
          ],
          [
           "PQDP11"
          ],
          [
           "FIGS11"
          ],
          [
           "HGBS11"
          ],
          [
           "FVPQ11"
          ],
          [
           "HPDP11"
          ],
          [
           "WPLZ11"
          ],
          [
           "MALL11"
          ],
          [
           "HSML11"
          ],
          [
           "LASC11"
          ],
          [
           "SHPH11"
          ],
          [
           "ABCP11"
          ],
          [
           "VISC11"
          ],
          [
           "RBGS11"
          ]
         ],
         "hovertemplate": "Setor=Shoppings<br>PL=%{x}<br>Rent_AC_%=%{y}<br>Codigo=%{customdata[0]}<extra></extra>",
         "legendgroup": "Shoppings",
         "marker": {
          "color": "#EF553B",
          "symbol": "circle"
         },
         "mode": "markers",
         "name": "Shoppings",
         "orientation": "v",
         "showlegend": true,
         "type": "scatter",
         "x": [
          64505673.54,
          53497376.28,
          221598319.19,
          171921865.51,
          901702134.45,
          573237489.83,
          1945352415.3,
          108777317.33,
          214017891.82,
          864538143.07,
          269042988.25,
          2112312883.11,
          554337596.32,
          279695516.53,
          106084879.47,
          782933433.25,
          1501075388.34,
          258335882.98,
          540921773.38,
          1119462962.71,
          2058292486.22,
          97865283.71
         ],
         "xaxis": "x",
         "y": [
          0,
          -17.29,
          13.34,
          1.1,
          0.03,
          0,
          -12.84,
          -4.31,
          5.77,
          -22.02,
          -9.34,
          -7.22,
          -10.25,
          -4.4,
          7.98,
          -2.2,
          -11.33,
          -3.5,
          -0.64,
          -3.81,
          -6.23,
          -28.71
         ],
         "yaxis": "y"
        },
        {
         "customdata": [
          [
           "BZLI11"
          ],
          [
           "ORPD11"
          ],
          [
           "CRFF11"
          ],
          [
           "BLMR11"
          ],
          [
           "DEVA11"
          ],
          [
           "EQIN11"
          ],
          [
           "FEXC11"
          ],
          [
           "BTCR11"
          ],
          [
           "BCFF11"
          ],
          [
           "MGFF11"
          ],
          [
           "FLCR11"
          ],
          [
           "RECR11"
          ],
          [
           "RVBI11"
          ],
          [
           "CVBI11"
          ],
          [
           "IBFF11"
          ],
          [
           "IBCR11"
          ],
          [
           "IRDM11"
          ],
          [
           "RBRR11"
          ],
          [
           "RBRY11"
          ],
          [
           "RBRF11"
          ],
          [
           "CPTS11"
          ],
          [
           "MCHF11"
          ],
          [
           "VGIR11"
          ],
          [
           "MCCI11"
          ],
          [
           "GCRI11"
          ],
          [
           "MORE11"
          ],
          [
           "NAVT11"
          ],
          [
           "MGCR11"
          ],
          [
           "GCFF11"
          ],
          [
           "AFHI11"
          ],
          [
           "OUFF11"
          ],
          [
           "OURE11"
          ],
          [
           "RZAK11"
          ],
          [
           "AFOF11"
          ],
          [
           "SNCI11"
          ],
          [
           "SNFF11"
          ],
          [
           "MCHY11"
          ],
          [
           "MATV11"
          ],
          [
           "MORC11"
          ],
          [
           "CCRF11"
          ],
          [
           "HGFF11"
          ],
          [
           "KNCR11"
          ],
          [
           "VGHF11"
          ],
          [
           "RNDP11"
          ],
          [
           "OUJP11"
          ],
          [
           "KFOF11"
          ],
          [
           "VOTS11"
          ],
          [
           "BARI11"
          ],
          [
           "HGIC11"
          ],
          [
           "ARRI11"
          ],
          [
           "RBFF11"
          ],
          [
           "HGCR11"
          ],
          [
           "KNSC11"
          ],
          [
           "KNHY11"
          ],
          [
           "KNIP11"
          ],
          [
           "VCJR11"
          ],
          [
           "HFOF11"
          ],
          [
           "VRTA11"
          ],
          [
           "BCRI11"
          ],
          [
           "PORD11"
          ],
          [
           "XPCA11"
          ],
          [
           "HSAF11"
          ],
          [
           "IFIE11"
          ],
          [
           "QIRI11"
          ],
          [
           "PLRI11"
          ],
          [
           "RBHY11"
          ],
          [
           "BBIM11"
          ],
          [
           "HREC11"
          ],
          [
           "RDPD11"
          ],
          [
           "SADI11"
          ],
          [
           "RZAG11"
          ],
          [
           "BPFF11"
          ],
          [
           "JPPA11"
          ],
          [
           "HABT11"
          ],
          [
           "VIUR11"
          ],
          [
           "VIFI11"
          ],
          [
           "BCIA11"
          ],
          [
           "IFID11"
          ],
          [
           "BICR11"
          ],
          [
           "KISU11"
          ],
          [
           "BBFO11"
          ],
          [
           "RFOF11"
          ],
          [
           "RRCI11"
          ],
          [
           "RBHG11"
          ]
         ],
         "hovertemplate": "Setor=Títulos e Val. Mob.<br>PL=%{x}<br>Rent_AC_%=%{y}<br>Codigo=%{customdata[0]}<extra></extra>",
         "legendgroup": "Títulos e Val. Mob.",
         "marker": {
          "color": "#00cc96",
          "symbol": "circle"
         },
         "mode": "markers",
         "name": "Títulos e Val. Mob.",
         "orientation": "v",
         "showlegend": true,
         "type": "scatter",
         "x": [
          432739853.66,
          44218407.47,
          61069208.29,
          208637330.82,
          1259674284.37,
          138263951.85,
          576006211.86,
          476195729.77,
          1932209076.88,
          670102751.59,
          50105816.93,
          2312002560.52,
          122122993.19,
          991128530.91,
          46653436.14,
          80175362.24,
          2692489672.14,
          1052526047.54,
          353780750.14,
          1126170984.4,
          2650260334.39,
          78592177.52,
          438106848.72,
          1273722037.22,
          99914922,
          202657376.23,
          91957610.2,
          136040564.39,
          28941459.49,
          176825735.8,
          137349990.71,
          99060743.99,
          285187459.44,
          66802372.42,
          155304701.95,
          215906222.37,
          358520000.88,
          33023409.5,
          79192890.26,
          160932143.66,
          262480054.46,
          3943715974.84,
          315713679.87,
          72381273.37,
          330555871.85,
          396443903.02,
          81639692.78,
          471526990.84,
          24699300.59,
          97931960.81,
          236797657.2,
          1266260106.77,
          717423945.13,
          1383482515.19,
          7054546598.14,
          1106452911.42,
          1897056709.57,
          1017170179.7,
          661660412.69,
          369263819.76,
          135385795.52,
          166358991.29,
          67074422.19,
          13503706.62,
          42110172.08,
          155817584.6,
          49542596.08,
          268066448.77,
          64314048.67,
          320438489.55,
          288959863.82,
          358945822.37,
          62379501.16,
          721617991.7,
          255916293.24,
          240665086.5,
          365351694.07,
          64706018.41,
          49460303.63,
          379670432.78,
          355097150.19,
          85709079.16,
          46898463.85,
          165659847.45
         ],
         "xaxis": "x",
         "y": [
          1.14,
          0,
          -11.62,
          -90.82,
          -16.99,
          -0.91,
          4.76,
          14.61,
          -17.84,
          -17.37,
          10.33,
          3.31,
          -4.29,
          6.9,
          -17.65,
          8.38,
          -17.06,
          13.79,
          8.9,
          -18.09,
          7.32,
          2.08,
          22.43,
          11.07,
          6.98,
          -24.92,
          -13.35,
          2.01,
          -9.97,
          10.14,
          -8.87,
          1.59,
          -8.76,
          -10.13,
          2.65,
          -6.49,
          10.94,
          0,
          1.25,
          1.9,
          -15.81,
          21.51,
          12.76,
          -11.98,
          -5.69,
          -17.89,
          14.33,
          4.21,
          13.68,
          19.54,
          -16.53,
          12.36,
          11.35,
          11.37,
          5.76,
          5.56,
          -15.04,
          1.4,
          3.65,
          3.85,
          0.83,
          13.88,
          -7.73,
          -2.54,
          -12.58,
          8.59,
          0,
          4.55,
          -25.1,
          27.1,
          0.85,
          -2.05,
          12.16,
          2.36,
          -17.51,
          -10.75,
          -17.67,
          -8.21,
          -0.49,
          -19.25,
          -9.96,
          -8.57,
          5.38,
          16.49
         ],
         "yaxis": "y"
        },
        {
         "customdata": [
          [
           "XTED11"
          ],
          [
           "ALMI11"
          ],
          [
           "FISC11"
          ],
          [
           "ONEF11"
          ],
          [
           "RCRB11"
          ],
          [
           "BMLC11"
          ],
          [
           "CEOC11"
          ],
          [
           "BLCA11"
          ],
          [
           "TRNT11"
          ],
          [
           "NEWU11"
          ],
          [
           "PRSV11"
          ],
          [
           "FAMB11B"
          ],
          [
           "FMOF11"
          ],
          [
           "CJCT11"
          ],
          [
           "DRIT11B"
          ],
          [
           "CTXT11"
          ],
          [
           "RMAI11"
          ],
          [
           "CNES11"
          ],
          [
           "EDGA11"
          ],
          [
           "PVBI11"
          ],
          [
           "BBPO11"
          ],
          [
           "HGPO11"
          ],
          [
           "CBOP11"
          ],
          [
           "HAAA11"
          ],
          [
           "SPTW11"
          ],
          [
           "CXCO11"
          ],
          [
           "RNGO11"
          ],
          [
           "XPCM11"
          ],
          [
           "HGRE11"
          ],
          [
           "VINO11"
          ],
          [
           "RBCO11"
          ],
          [
           "EDFO11B"
          ],
          [
           "GTWR11"
          ],
          [
           "BBFI11B"
          ],
          [
           "AIEC11"
          ],
          [
           "PATC11"
          ],
          [
           "FPAB11"
          ],
          [
           "TEPP11"
          ],
          [
           "BTWR11"
          ],
          [
           "VLOL11"
          ]
         ],
         "hovertemplate": "Setor=Lajes Corporativas<br>PL=%{x}<br>Rent_AC_%=%{y}<br>Codigo=%{customdata[0]}<extra></extra>",
         "legendgroup": "Lajes Corporativas",
         "marker": {
          "color": "#ab63fa",
          "symbol": "circle"
         },
         "mode": "markers",
         "name": "Lajes Corporativas",
         "orientation": "v",
         "showlegend": true,
         "type": "scatter",
         "x": [
          26172643.85,
          250240666.39,
          253338319.3,
          159164173.48,
          728157489.25,
          106563744.62,
          156336111.14,
          160740969.06,
          814380621.51,
          45918648.78,
          47090041.04,
          360414709.44,
          66970633.8,
          185921044.93,
          60758317.59,
          112402752.34,
          264341611.33,
          255504234.99,
          300146278.44,
          998576404.46,
          1525488938.32,
          469812255.83,
          128523568.51,
          325770617.79,
          89355196.77,
          394270353.54,
          234015134.97,
          133587253.96,
          1949751010.85,
          735371783.06,
          380191685.75,
          50111495.65,
          1181864977.66,
          330558622.04,
          486481248.48,
          296481658.24,
          336222259.22,
          396715750.88,
          87703705.42,
          173463499.1
         ],
         "xaxis": "x",
         "y": [
          -37.83,
          -28.29,
          0,
          0.63,
          0.42,
          2.04,
          -10.9,
          0,
          -26.64,
          -31.62,
          -11.25,
          -47.8,
          0,
          0,
          -7.42,
          -39.31,
          -10,
          -31.96,
          -22.76,
          3.76,
          -8.07,
          11.15,
          -2.32,
          -0.19,
          -33.61,
          -13.11,
          -19.06,
          -57.93,
          -1.62,
          -1.83,
          -28.07,
          -7.82,
          -10.18,
          18.42,
          -14.38,
          -18.83,
          -24.25,
          -10.77,
          0.14,
          -2.58
         ],
         "yaxis": "y"
        },
        {
         "customdata": [
          [
           "RBLG11"
          ],
          [
           "GGRC11"
          ],
          [
           "BLMG11"
          ],
          [
           "RBRL11"
          ],
          [
           "MGLG11"
          ],
          [
           "BTLG11"
          ],
          [
           "ALZR11"
          ],
          [
           "LVBI11"
          ],
          [
           "PQAG11"
          ],
          [
           "BRCO11"
          ],
          [
           "HGLG11"
          ],
          [
           "HLOG11"
          ],
          [
           "VILG11"
          ],
          [
           "HSLG11"
          ],
          [
           "FIIP11B"
          ],
          [
           "VTLT11"
          ],
          [
           "XPLG11"
          ],
          [
           "SDIL11"
          ],
          [
           "PLOG11"
          ],
          [
           "EURO11"
          ],
          [
           "LGCP11"
          ],
          [
           "CXTL11"
          ]
         ],
         "hovertemplate": "Setor=Logística<br>PL=%{x}<br>Rent_AC_%=%{y}<br>Codigo=%{customdata[0]}<extra></extra>",
         "legendgroup": "Logística",
         "marker": {
          "color": "#FFA15A",
          "symbol": "circle"
         },
         "mode": "markers",
         "name": "Logística",
         "orientation": "v",
         "showlegend": true,
         "type": "scatter",
         "x": [
          68689321.59,
          1039797046.13,
          369462477.79,
          711004292.61,
          113393396.88,
          1522704994.65,
          643082533.83,
          1352087107.37,
          795887588.27,
          1753609368.4,
          3156088176.65,
          483225708.31,
          1703601538.03,
          1428045971.18,
          185867652.81,
          218154340.14,
          2869525443.04,
          622149687.44,
          74524074.15,
          109006380.05,
          270529065.22,
          37044254.22
         ],
         "xaxis": "x",
         "y": [
          -14.15,
          -12.39,
          -1.95,
          -5.8,
          -30.37,
          -5.89,
          -11.78,
          -6.82,
          -11.18,
          -3.21,
          2.84,
          -14.44,
          -6.86,
          -9.45,
          -6.47,
          -10,
          -9.62,
          -4.95,
          -12.65,
          3.77,
          -3.96,
          3.06
         ],
         "yaxis": "y"
        },
        {
         "customdata": [
          [
           "QAGR11"
          ],
          [
           "MBRF11"
          ],
          [
           "VSLH11"
          ],
          [
           "HCTR11"
          ],
          [
           "FAED11"
          ],
          [
           "MAXR11"
          ],
          [
           "TORD11"
          ],
          [
           "SEQR11"
          ],
          [
           "RBRP11"
          ],
          [
           "VGIP11"
          ],
          [
           "BLCP11"
          ],
          [
           "VXXV11"
          ],
          [
           "GESE11B"
          ],
          [
           "OULG11"
          ],
          [
           "BLMC11"
          ],
          [
           "RECX11"
          ],
          [
           "XPIN11"
          ],
          [
           "FCFL11"
          ],
          [
           "BTAL11"
          ],
          [
           "BTRA11"
          ],
          [
           "XPCI11"
          ],
          [
           "URPR11"
          ],
          [
           "TGAR11"
          ],
          [
           "HUSC11"
          ],
          [
           "TRXF11"
          ],
          [
           "NVIF11B"
          ],
          [
           "XPPR11"
          ],
          [
           "SPVJ11"
          ],
          [
           "HCHG11"
          ],
          [
           "RBED11"
          ],
          [
           "RBVA11"
          ],
          [
           "XPSF11"
          ],
          [
           "BNFS11"
          ],
          [
           "CXCE11B"
          ],
          [
           "RBVO11"
          ],
          [
           "BBRC11"
          ]
         ],
         "hovertemplate": "Setor=Outros<br>PL=%{x}<br>Rent_AC_%=%{y}<br>Codigo=%{customdata[0]}<extra></extra>",
         "legendgroup": "Outros",
         "marker": {
          "color": "#19d3f3",
          "symbol": "circle"
         },
         "mode": "markers",
         "name": "Outros",
         "orientation": "v",
         "showlegend": true,
         "type": "scatter",
         "x": [
          300963209.86,
          113428869.55,
          290951478.8,
          2320957178.03,
          137412142.23,
          132620586.92,
          452519294.27,
          168628334.33,
          1007350492.52,
          715092271.19,
          225882453.79,
          120962305.1,
          86162938.46,
          230794116.97,
          40334937.4,
          18534238.67,
          787121257.78,
          352533065.59,
          616134581.99,
          336025608.31,
          650592300.58,
          351769051.16,
          1440967369.95,
          113166728.66,
          575388816.58,
          60762463.2,
          606024273.34,
          680084152.76,
          113144786.36,
          286286590.21,
          1215325229.44,
          365313274.13,
          72837554.95,
          110978299.93,
          11981470.71,
          170840969.91
         ],
         "xaxis": "x",
         "y": [
          0.7,
          1.19,
          11.74,
          -4.54,
          -18.57,
          -95.25,
          -9.7,
          -10.95,
          -22.85,
          3.12,
          -13.67,
          0,
          0,
          -27.1,
          3.55,
          -4.43,
          -16.25,
          -4.43,
          -3.32,
          -3.72,
          11.91,
          7.7,
          -6.01,
          -14.45,
          3.17,
          0,
          -8.25,
          0,
          -2.73,
          -8.93,
          -0.3,
          -5.32,
          11.54,
          -49.63,
          -14.64,
          -4.55
         ],
         "yaxis": "y"
        },
        {
         "customdata": [
          [
           "BIME11"
          ],
          [
           "GTLG11"
          ],
          [
           "CYCR11"
          ]
         ],
         "hovertemplate": "Setor=0<br>PL=%{x}<br>Rent_AC_%=%{y}<br>Codigo=%{customdata[0]}<extra></extra>",
         "legendgroup": "0",
         "marker": {
          "color": "#FF6692",
          "symbol": "circle"
         },
         "mode": "markers",
         "name": "0",
         "orientation": "v",
         "showlegend": true,
         "type": "scatter",
         "x": [
          55547088.26,
          711152630.95,
          50182641.04
         ],
         "xaxis": "x",
         "y": [
          1.05,
          0.92,
          1.69
         ],
         "yaxis": "y"
        },
        {
         "customdata": [
          [
           "MGHT11"
          ],
          [
           "XPHT11"
          ],
          [
           "HTMX11"
          ]
         ],
         "hovertemplate": "Setor=Hotel<br>PL=%{x}<br>Rent_AC_%=%{y}<br>Codigo=%{customdata[0]}<extra></extra>",
         "legendgroup": "Hotel",
         "marker": {
          "color": "#B6E880",
          "symbol": "circle"
         },
         "mode": "markers",
         "name": "Hotel",
         "orientation": "v",
         "showlegend": true,
         "type": "scatter",
         "x": [
          131567014.5,
          330630764.2,
          163878952.06
         ],
         "xaxis": "x",
         "y": [
          -2.17,
          -16.89,
          -32.26
         ],
         "yaxis": "y"
        },
        {
         "customdata": [
          [
           "RBDS11"
          ],
          [
           "KNRE11"
          ],
          [
           "LFTT11"
          ],
          [
           "RBIR11"
          ],
          [
           "YUFI11B"
          ],
          [
           "HGRS11"
          ],
          [
           "JFLL11"
          ],
          [
           "LUGG11"
          ],
          [
           "VCRR11"
          ],
          [
           "KINP11"
          ]
         ],
         "hovertemplate": "Setor=Residencial<br>PL=%{x}<br>Rent_AC_%=%{y}<br>Codigo=%{customdata[0]}<extra></extra>",
         "legendgroup": "Residencial",
         "marker": {
          "color": "#FF97FF",
          "symbol": "circle"
         },
         "mode": "markers",
         "name": "Residencial",
         "orientation": "v",
         "showlegend": true,
         "type": "scatter",
         "x": [
          3258445.22,
          36692023.18,
          428081221.15,
          146658316.94,
          37579975.83,
          95106297.8,
          149192045.36,
          112403356.09,
          196132238.25,
          54227212.11
         ],
         "xaxis": "x",
         "y": [
          0,
          0,
          0,
          0,
          0,
          0,
          -16.43,
          -6.53,
          -6.79,
          1.35
         ],
         "yaxis": "y"
        },
        {
         "customdata": [
          [
           "HCRI11"
          ],
          [
           "NSLU11"
          ],
          [
           "NVHO11"
          ]
         ],
         "hovertemplate": "Setor=Hospital<br>PL=%{x}<br>Rent_AC_%=%{y}<br>Codigo=%{customdata[0]}<extra></extra>",
         "legendgroup": "Hospital",
         "marker": {
          "color": "#FECB52",
          "symbol": "circle"
         },
         "mode": "markers",
         "name": "Hospital",
         "orientation": "v",
         "showlegend": true,
         "type": "scatter",
         "x": [
          59886299.64,
          244408065.59,
          527758066.3
         ],
         "xaxis": "x",
         "y": [
          -15.24,
          -5.27,
          -40.47
         ],
         "yaxis": "y"
        }
       ],
       "layout": {
        "legend": {
         "title": {
          "text": "Setor"
         },
         "tracegroupgap": 0
        },
        "margin": {
         "t": 60
        },
        "template": {
         "data": {
          "bar": [
           {
            "error_x": {
             "color": "#2a3f5f"
            },
            "error_y": {
             "color": "#2a3f5f"
            },
            "marker": {
             "line": {
              "color": "#E5ECF6",
              "width": 0.5
             },
             "pattern": {
              "fillmode": "overlay",
              "size": 10,
              "solidity": 0.2
             }
            },
            "type": "bar"
           }
          ],
          "barpolar": [
           {
            "marker": {
             "line": {
              "color": "#E5ECF6",
              "width": 0.5
             },
             "pattern": {
              "fillmode": "overlay",
              "size": 10,
              "solidity": 0.2
             }
            },
            "type": "barpolar"
           }
          ],
          "carpet": [
           {
            "aaxis": {
             "endlinecolor": "#2a3f5f",
             "gridcolor": "white",
             "linecolor": "white",
             "minorgridcolor": "white",
             "startlinecolor": "#2a3f5f"
            },
            "baxis": {
             "endlinecolor": "#2a3f5f",
             "gridcolor": "white",
             "linecolor": "white",
             "minorgridcolor": "white",
             "startlinecolor": "#2a3f5f"
            },
            "type": "carpet"
           }
          ],
          "choropleth": [
           {
            "colorbar": {
             "outlinewidth": 0,
             "ticks": ""
            },
            "type": "choropleth"
           }
          ],
          "contour": [
           {
            "colorbar": {
             "outlinewidth": 0,
             "ticks": ""
            },
            "colorscale": [
             [
              0,
              "#0d0887"
             ],
             [
              0.1111111111111111,
              "#46039f"
             ],
             [
              0.2222222222222222,
              "#7201a8"
             ],
             [
              0.3333333333333333,
              "#9c179e"
             ],
             [
              0.4444444444444444,
              "#bd3786"
             ],
             [
              0.5555555555555556,
              "#d8576b"
             ],
             [
              0.6666666666666666,
              "#ed7953"
             ],
             [
              0.7777777777777778,
              "#fb9f3a"
             ],
             [
              0.8888888888888888,
              "#fdca26"
             ],
             [
              1,
              "#f0f921"
             ]
            ],
            "type": "contour"
           }
          ],
          "contourcarpet": [
           {
            "colorbar": {
             "outlinewidth": 0,
             "ticks": ""
            },
            "type": "contourcarpet"
           }
          ],
          "heatmap": [
           {
            "colorbar": {
             "outlinewidth": 0,
             "ticks": ""
            },
            "colorscale": [
             [
              0,
              "#0d0887"
             ],
             [
              0.1111111111111111,
              "#46039f"
             ],
             [
              0.2222222222222222,
              "#7201a8"
             ],
             [
              0.3333333333333333,
              "#9c179e"
             ],
             [
              0.4444444444444444,
              "#bd3786"
             ],
             [
              0.5555555555555556,
              "#d8576b"
             ],
             [
              0.6666666666666666,
              "#ed7953"
             ],
             [
              0.7777777777777778,
              "#fb9f3a"
             ],
             [
              0.8888888888888888,
              "#fdca26"
             ],
             [
              1,
              "#f0f921"
             ]
            ],
            "type": "heatmap"
           }
          ],
          "heatmapgl": [
           {
            "colorbar": {
             "outlinewidth": 0,
             "ticks": ""
            },
            "colorscale": [
             [
              0,
              "#0d0887"
             ],
             [
              0.1111111111111111,
              "#46039f"
             ],
             [
              0.2222222222222222,
              "#7201a8"
             ],
             [
              0.3333333333333333,
              "#9c179e"
             ],
             [
              0.4444444444444444,
              "#bd3786"
             ],
             [
              0.5555555555555556,
              "#d8576b"
             ],
             [
              0.6666666666666666,
              "#ed7953"
             ],
             [
              0.7777777777777778,
              "#fb9f3a"
             ],
             [
              0.8888888888888888,
              "#fdca26"
             ],
             [
              1,
              "#f0f921"
             ]
            ],
            "type": "heatmapgl"
           }
          ],
          "histogram": [
           {
            "marker": {
             "pattern": {
              "fillmode": "overlay",
              "size": 10,
              "solidity": 0.2
             }
            },
            "type": "histogram"
           }
          ],
          "histogram2d": [
           {
            "colorbar": {
             "outlinewidth": 0,
             "ticks": ""
            },
            "colorscale": [
             [
              0,
              "#0d0887"
             ],
             [
              0.1111111111111111,
              "#46039f"
             ],
             [
              0.2222222222222222,
              "#7201a8"
             ],
             [
              0.3333333333333333,
              "#9c179e"
             ],
             [
              0.4444444444444444,
              "#bd3786"
             ],
             [
              0.5555555555555556,
              "#d8576b"
             ],
             [
              0.6666666666666666,
              "#ed7953"
             ],
             [
              0.7777777777777778,
              "#fb9f3a"
             ],
             [
              0.8888888888888888,
              "#fdca26"
             ],
             [
              1,
              "#f0f921"
             ]
            ],
            "type": "histogram2d"
           }
          ],
          "histogram2dcontour": [
           {
            "colorbar": {
             "outlinewidth": 0,
             "ticks": ""
            },
            "colorscale": [
             [
              0,
              "#0d0887"
             ],
             [
              0.1111111111111111,
              "#46039f"
             ],
             [
              0.2222222222222222,
              "#7201a8"
             ],
             [
              0.3333333333333333,
              "#9c179e"
             ],
             [
              0.4444444444444444,
              "#bd3786"
             ],
             [
              0.5555555555555556,
              "#d8576b"
             ],
             [
              0.6666666666666666,
              "#ed7953"
             ],
             [
              0.7777777777777778,
              "#fb9f3a"
             ],
             [
              0.8888888888888888,
              "#fdca26"
             ],
             [
              1,
              "#f0f921"
             ]
            ],
            "type": "histogram2dcontour"
           }
          ],
          "mesh3d": [
           {
            "colorbar": {
             "outlinewidth": 0,
             "ticks": ""
            },
            "type": "mesh3d"
           }
          ],
          "parcoords": [
           {
            "line": {
             "colorbar": {
              "outlinewidth": 0,
              "ticks": ""
             }
            },
            "type": "parcoords"
           }
          ],
          "pie": [
           {
            "automargin": true,
            "type": "pie"
           }
          ],
          "scatter": [
           {
            "marker": {
             "colorbar": {
              "outlinewidth": 0,
              "ticks": ""
             }
            },
            "type": "scatter"
           }
          ],
          "scatter3d": [
           {
            "line": {
             "colorbar": {
              "outlinewidth": 0,
              "ticks": ""
             }
            },
            "marker": {
             "colorbar": {
              "outlinewidth": 0,
              "ticks": ""
             }
            },
            "type": "scatter3d"
           }
          ],
          "scattercarpet": [
           {
            "marker": {
             "colorbar": {
              "outlinewidth": 0,
              "ticks": ""
             }
            },
            "type": "scattercarpet"
           }
          ],
          "scattergeo": [
           {
            "marker": {
             "colorbar": {
              "outlinewidth": 0,
              "ticks": ""
             }
            },
            "type": "scattergeo"
           }
          ],
          "scattergl": [
           {
            "marker": {
             "colorbar": {
              "outlinewidth": 0,
              "ticks": ""
             }
            },
            "type": "scattergl"
           }
          ],
          "scattermapbox": [
           {
            "marker": {
             "colorbar": {
              "outlinewidth": 0,
              "ticks": ""
             }
            },
            "type": "scattermapbox"
           }
          ],
          "scatterpolar": [
           {
            "marker": {
             "colorbar": {
              "outlinewidth": 0,
              "ticks": ""
             }
            },
            "type": "scatterpolar"
           }
          ],
          "scatterpolargl": [
           {
            "marker": {
             "colorbar": {
              "outlinewidth": 0,
              "ticks": ""
             }
            },
            "type": "scatterpolargl"
           }
          ],
          "scatterternary": [
           {
            "marker": {
             "colorbar": {
              "outlinewidth": 0,
              "ticks": ""
             }
            },
            "type": "scatterternary"
           }
          ],
          "surface": [
           {
            "colorbar": {
             "outlinewidth": 0,
             "ticks": ""
            },
            "colorscale": [
             [
              0,
              "#0d0887"
             ],
             [
              0.1111111111111111,
              "#46039f"
             ],
             [
              0.2222222222222222,
              "#7201a8"
             ],
             [
              0.3333333333333333,
              "#9c179e"
             ],
             [
              0.4444444444444444,
              "#bd3786"
             ],
             [
              0.5555555555555556,
              "#d8576b"
             ],
             [
              0.6666666666666666,
              "#ed7953"
             ],
             [
              0.7777777777777778,
              "#fb9f3a"
             ],
             [
              0.8888888888888888,
              "#fdca26"
             ],
             [
              1,
              "#f0f921"
             ]
            ],
            "type": "surface"
           }
          ],
          "table": [
           {
            "cells": {
             "fill": {
              "color": "#EBF0F8"
             },
             "line": {
              "color": "white"
             }
            },
            "header": {
             "fill": {
              "color": "#C8D4E3"
             },
             "line": {
              "color": "white"
             }
            },
            "type": "table"
           }
          ]
         },
         "layout": {
          "annotationdefaults": {
           "arrowcolor": "#2a3f5f",
           "arrowhead": 0,
           "arrowwidth": 1
          },
          "autotypenumbers": "strict",
          "coloraxis": {
           "colorbar": {
            "outlinewidth": 0,
            "ticks": ""
           }
          },
          "colorscale": {
           "diverging": [
            [
             0,
             "#8e0152"
            ],
            [
             0.1,
             "#c51b7d"
            ],
            [
             0.2,
             "#de77ae"
            ],
            [
             0.3,
             "#f1b6da"
            ],
            [
             0.4,
             "#fde0ef"
            ],
            [
             0.5,
             "#f7f7f7"
            ],
            [
             0.6,
             "#e6f5d0"
            ],
            [
             0.7,
             "#b8e186"
            ],
            [
             0.8,
             "#7fbc41"
            ],
            [
             0.9,
             "#4d9221"
            ],
            [
             1,
             "#276419"
            ]
           ],
           "sequential": [
            [
             0,
             "#0d0887"
            ],
            [
             0.1111111111111111,
             "#46039f"
            ],
            [
             0.2222222222222222,
             "#7201a8"
            ],
            [
             0.3333333333333333,
             "#9c179e"
            ],
            [
             0.4444444444444444,
             "#bd3786"
            ],
            [
             0.5555555555555556,
             "#d8576b"
            ],
            [
             0.6666666666666666,
             "#ed7953"
            ],
            [
             0.7777777777777778,
             "#fb9f3a"
            ],
            [
             0.8888888888888888,
             "#fdca26"
            ],
            [
             1,
             "#f0f921"
            ]
           ],
           "sequentialminus": [
            [
             0,
             "#0d0887"
            ],
            [
             0.1111111111111111,
             "#46039f"
            ],
            [
             0.2222222222222222,
             "#7201a8"
            ],
            [
             0.3333333333333333,
             "#9c179e"
            ],
            [
             0.4444444444444444,
             "#bd3786"
            ],
            [
             0.5555555555555556,
             "#d8576b"
            ],
            [
             0.6666666666666666,
             "#ed7953"
            ],
            [
             0.7777777777777778,
             "#fb9f3a"
            ],
            [
             0.8888888888888888,
             "#fdca26"
            ],
            [
             1,
             "#f0f921"
            ]
           ]
          },
          "colorway": [
           "#636efa",
           "#EF553B",
           "#00cc96",
           "#ab63fa",
           "#FFA15A",
           "#19d3f3",
           "#FF6692",
           "#B6E880",
           "#FF97FF",
           "#FECB52"
          ],
          "font": {
           "color": "#2a3f5f"
          },
          "geo": {
           "bgcolor": "white",
           "lakecolor": "white",
           "landcolor": "#E5ECF6",
           "showlakes": true,
           "showland": true,
           "subunitcolor": "white"
          },
          "hoverlabel": {
           "align": "left"
          },
          "hovermode": "closest",
          "mapbox": {
           "style": "light"
          },
          "paper_bgcolor": "white",
          "plot_bgcolor": "#E5ECF6",
          "polar": {
           "angularaxis": {
            "gridcolor": "white",
            "linecolor": "white",
            "ticks": ""
           },
           "bgcolor": "#E5ECF6",
           "radialaxis": {
            "gridcolor": "white",
            "linecolor": "white",
            "ticks": ""
           }
          },
          "scene": {
           "xaxis": {
            "backgroundcolor": "#E5ECF6",
            "gridcolor": "white",
            "gridwidth": 2,
            "linecolor": "white",
            "showbackground": true,
            "ticks": "",
            "zerolinecolor": "white"
           },
           "yaxis": {
            "backgroundcolor": "#E5ECF6",
            "gridcolor": "white",
            "gridwidth": 2,
            "linecolor": "white",
            "showbackground": true,
            "ticks": "",
            "zerolinecolor": "white"
           },
           "zaxis": {
            "backgroundcolor": "#E5ECF6",
            "gridcolor": "white",
            "gridwidth": 2,
            "linecolor": "white",
            "showbackground": true,
            "ticks": "",
            "zerolinecolor": "white"
           }
          },
          "shapedefaults": {
           "line": {
            "color": "#2a3f5f"
           }
          },
          "ternary": {
           "aaxis": {
            "gridcolor": "white",
            "linecolor": "white",
            "ticks": ""
           },
           "baxis": {
            "gridcolor": "white",
            "linecolor": "white",
            "ticks": ""
           },
           "bgcolor": "#E5ECF6",
           "caxis": {
            "gridcolor": "white",
            "linecolor": "white",
            "ticks": ""
           }
          },
          "title": {
           "x": 0.05
          },
          "xaxis": {
           "automargin": true,
           "gridcolor": "white",
           "linecolor": "white",
           "ticks": "",
           "title": {
            "standoff": 15
           },
           "zerolinecolor": "white",
           "zerolinewidth": 2
          },
          "yaxis": {
           "automargin": true,
           "gridcolor": "white",
           "linecolor": "white",
           "ticks": "",
           "title": {
            "standoff": 15
           },
           "zerolinecolor": "white",
           "zerolinewidth": 2
          }
         }
        },
        "xaxis": {
         "anchor": "y",
         "domain": [
          0,
          1
         ],
         "title": {
          "text": "PL"
         }
        },
        "yaxis": {
         "anchor": "x",
         "domain": [
          0,
          1
         ],
         "title": {
          "text": "Rent_AC_%"
         }
        }
       }
      },
      "text/html": [
       "<div>                            <div id=\"31b5f297-fc65-4d6f-bd57-36aa31be1f8d\" class=\"plotly-graph-div\" style=\"height:525px; width:100%;\"></div>            <script type=\"text/javascript\">                require([\"plotly\"], function(Plotly) {                    window.PLOTLYENV=window.PLOTLYENV || {};                                    if (document.getElementById(\"31b5f297-fc65-4d6f-bd57-36aa31be1f8d\")) {                    Plotly.newPlot(                        \"31b5f297-fc65-4d6f-bd57-36aa31be1f8d\",                        [{\"customdata\":[[\"APTO11\"],[\"PABY11\"],[\"CXRI11\"],[\"FATN11\"],[\"BREV11\"],[\"BRCR11\"],[\"DVFF11\"],[\"RECT11\"],[\"RELG11\"],[\"CPFF11\"],[\"GAME11\"],[\"IRIM11\"],[\"BRLA11\"],[\"HRDF11\"],[\"CARE11\"],[\"VJFD11\"],[\"WTSP11B\"],[\"ARCT11\"],[\"CORM11\"],[\"ERCR11\"],[\"VVPR11\"],[\"JSRE11\"],[\"HGRU11\"],[\"RBRD11\"],[\"CACR11\"],[\"QAMI11\"],[\"RZTR11\"],[\"PATL11\"],[\"EVBI11\"],[\"FIIB11\"],[\"RBRS11\"],[\"HSRE11\"],[\"IDFI11\"],[\"MFII11\"],[\"PLCR11\"],[\"SARE11\"],[\"KNRI11\"],[\"KNRI11\"],[\"MXRF11\"],[\"HOSI11\"],[\"HBRH11\"],[\"NEWL11\"],[\"STRX11\"],[\"GALG11\"],[\"MFAI11\"]],\"hovertemplate\":\"Setor=H\\u00edbrido<br>PL=%{x}<br>Rent_AC_%=%{y}<br>Codigo=%{customdata[0]}<extra></extra>\",\"legendgroup\":\"H\\u00edbrido\",\"marker\":{\"color\":\"#636efa\",\"symbol\":\"circle\"},\"mode\":\"markers\",\"name\":\"H\\u00edbrido\",\"orientation\":\"v\",\"showlegend\":true,\"x\":[9494846.65,-8246025.21,138937265.23,81279152.95,101663227.02,2828515163.3,103014517.94,753333282.94,127381730.29,412802106.88,205123675.99,129732965.13,240018351.65,9430355.64,284911633.61,649310196.78,79009528.93,164876366.56,85361211.11,177302795.7,238520413.19,2351705389.52,2178829394.48,133675336.89,153985328.53,73099914.93,1114567220.92,473626965.64,109832723.37,303500566.33,129875170.09,830837526.52,209298712.63,420575995.6,195407902.15,917117685.29,3797979053.02,3797979053.02,2281190098.57,52954421.98,295750933.66,235152808.21,296599177.07,576127116.17,23348175.37],\"xaxis\":\"x\",\"y\":[0.0,-31.62,-35.12,6.71,-11.89,-10.28,18.3,-17.99,-8.82,-8.28,1.04,3.88,-3.45,0.0,5.65,0.0,-3.6,-14.66,1.17,-1.42,0.37,-10.88,-1.15,-40.1,10.28,7.06,5.15,-12.9,2.38,-5.03,-25.35,5.42,3.61,-5.66,10.23,-19.02,-5.66,-5.66,3.34,-7.43,-2.98,3.62,0.0,1.8,-30.62],\"yaxis\":\"y\",\"type\":\"scatter\"},{\"customdata\":[[\"FIVN11\"],[\"SCPF11\"],[\"JRDM11\"],[\"ATSA11\"],[\"GSFI11\"],[\"BPML11\"],[\"XPML11\"],[\"FLRP11\"],[\"VSHO11\"],[\"PQDP11\"],[\"FIGS11\"],[\"HGBS11\"],[\"FVPQ11\"],[\"HPDP11\"],[\"WPLZ11\"],[\"MALL11\"],[\"HSML11\"],[\"LASC11\"],[\"SHPH11\"],[\"ABCP11\"],[\"VISC11\"],[\"RBGS11\"]],\"hovertemplate\":\"Setor=Shoppings<br>PL=%{x}<br>Rent_AC_%=%{y}<br>Codigo=%{customdata[0]}<extra></extra>\",\"legendgroup\":\"Shoppings\",\"marker\":{\"color\":\"#EF553B\",\"symbol\":\"circle\"},\"mode\":\"markers\",\"name\":\"Shoppings\",\"orientation\":\"v\",\"showlegend\":true,\"x\":[64505673.54,53497376.28,221598319.19,171921865.51,901702134.45,573237489.83,1945352415.3,108777317.33,214017891.82,864538143.07,269042988.25,2112312883.11,554337596.32,279695516.53,106084879.47,782933433.25,1501075388.34,258335882.98,540921773.38,1119462962.71,2058292486.22,97865283.71],\"xaxis\":\"x\",\"y\":[0.0,-17.29,13.34,1.1,0.03,0.0,-12.84,-4.31,5.77,-22.02,-9.34,-7.22,-10.25,-4.4,7.98,-2.2,-11.33,-3.5,-0.64,-3.81,-6.23,-28.71],\"yaxis\":\"y\",\"type\":\"scatter\"},{\"customdata\":[[\"BZLI11\"],[\"ORPD11\"],[\"CRFF11\"],[\"BLMR11\"],[\"DEVA11\"],[\"EQIN11\"],[\"FEXC11\"],[\"BTCR11\"],[\"BCFF11\"],[\"MGFF11\"],[\"FLCR11\"],[\"RECR11\"],[\"RVBI11\"],[\"CVBI11\"],[\"IBFF11\"],[\"IBCR11\"],[\"IRDM11\"],[\"RBRR11\"],[\"RBRY11\"],[\"RBRF11\"],[\"CPTS11\"],[\"MCHF11\"],[\"VGIR11\"],[\"MCCI11\"],[\"GCRI11\"],[\"MORE11\"],[\"NAVT11\"],[\"MGCR11\"],[\"GCFF11\"],[\"AFHI11\"],[\"OUFF11\"],[\"OURE11\"],[\"RZAK11\"],[\"AFOF11\"],[\"SNCI11\"],[\"SNFF11\"],[\"MCHY11\"],[\"MATV11\"],[\"MORC11\"],[\"CCRF11\"],[\"HGFF11\"],[\"KNCR11\"],[\"VGHF11\"],[\"RNDP11\"],[\"OUJP11\"],[\"KFOF11\"],[\"VOTS11\"],[\"BARI11\"],[\"HGIC11\"],[\"ARRI11\"],[\"RBFF11\"],[\"HGCR11\"],[\"KNSC11\"],[\"KNHY11\"],[\"KNIP11\"],[\"VCJR11\"],[\"HFOF11\"],[\"VRTA11\"],[\"BCRI11\"],[\"PORD11\"],[\"XPCA11\"],[\"HSAF11\"],[\"IFIE11\"],[\"QIRI11\"],[\"PLRI11\"],[\"RBHY11\"],[\"BBIM11\"],[\"HREC11\"],[\"RDPD11\"],[\"SADI11\"],[\"RZAG11\"],[\"BPFF11\"],[\"JPPA11\"],[\"HABT11\"],[\"VIUR11\"],[\"VIFI11\"],[\"BCIA11\"],[\"IFID11\"],[\"BICR11\"],[\"KISU11\"],[\"BBFO11\"],[\"RFOF11\"],[\"RRCI11\"],[\"RBHG11\"]],\"hovertemplate\":\"Setor=T\\u00edtulos e Val. Mob.<br>PL=%{x}<br>Rent_AC_%=%{y}<br>Codigo=%{customdata[0]}<extra></extra>\",\"legendgroup\":\"T\\u00edtulos e Val. Mob.\",\"marker\":{\"color\":\"#00cc96\",\"symbol\":\"circle\"},\"mode\":\"markers\",\"name\":\"T\\u00edtulos e Val. Mob.\",\"orientation\":\"v\",\"showlegend\":true,\"x\":[432739853.66,44218407.47,61069208.29,208637330.82,1259674284.37,138263951.85,576006211.86,476195729.77,1932209076.88,670102751.59,50105816.93,2312002560.52,122122993.19,991128530.91,46653436.14,80175362.24,2692489672.14,1052526047.54,353780750.14,1126170984.4,2650260334.39,78592177.52,438106848.72,1273722037.22,99914922.0,202657376.23,91957610.2,136040564.39,28941459.49,176825735.8,137349990.71,99060743.99,285187459.44,66802372.42,155304701.95,215906222.37,358520000.88,33023409.5,79192890.26,160932143.66,262480054.46,3943715974.84,315713679.87,72381273.37,330555871.85,396443903.02,81639692.78,471526990.84,24699300.59,97931960.81,236797657.2,1266260106.77,717423945.13,1383482515.19,7054546598.14,1106452911.42,1897056709.57,1017170179.7,661660412.69,369263819.76,135385795.52,166358991.29,67074422.19,13503706.62,42110172.08,155817584.6,49542596.08,268066448.77,64314048.67,320438489.55,288959863.82,358945822.37,62379501.16,721617991.7,255916293.24,240665086.5,365351694.07,64706018.41,49460303.63,379670432.78,355097150.19,85709079.16,46898463.85,165659847.45],\"xaxis\":\"x\",\"y\":[1.14,0.0,-11.62,-90.82,-16.99,-0.91,4.76,14.61,-17.84,-17.37,10.33,3.31,-4.29,6.9,-17.65,8.38,-17.06,13.79,8.9,-18.09,7.32,2.08,22.43,11.07,6.98,-24.92,-13.35,2.01,-9.97,10.14,-8.87,1.59,-8.76,-10.13,2.65,-6.49,10.94,0.0,1.25,1.9,-15.81,21.51,12.76,-11.98,-5.69,-17.89,14.33,4.21,13.68,19.54,-16.53,12.36,11.35,11.37,5.76,5.56,-15.04,1.4,3.65,3.85,0.83,13.88,-7.73,-2.54,-12.58,8.59,0.0,4.55,-25.1,27.1,0.85,-2.05,12.16,2.36,-17.51,-10.75,-17.67,-8.21,-0.49,-19.25,-9.96,-8.57,5.38,16.49],\"yaxis\":\"y\",\"type\":\"scatter\"},{\"customdata\":[[\"XTED11\"],[\"ALMI11\"],[\"FISC11\"],[\"ONEF11\"],[\"RCRB11\"],[\"BMLC11\"],[\"CEOC11\"],[\"BLCA11\"],[\"TRNT11\"],[\"NEWU11\"],[\"PRSV11\"],[\"FAMB11B\"],[\"FMOF11\"],[\"CJCT11\"],[\"DRIT11B\"],[\"CTXT11\"],[\"RMAI11\"],[\"CNES11\"],[\"EDGA11\"],[\"PVBI11\"],[\"BBPO11\"],[\"HGPO11\"],[\"CBOP11\"],[\"HAAA11\"],[\"SPTW11\"],[\"CXCO11\"],[\"RNGO11\"],[\"XPCM11\"],[\"HGRE11\"],[\"VINO11\"],[\"RBCO11\"],[\"EDFO11B\"],[\"GTWR11\"],[\"BBFI11B\"],[\"AIEC11\"],[\"PATC11\"],[\"FPAB11\"],[\"TEPP11\"],[\"BTWR11\"],[\"VLOL11\"]],\"hovertemplate\":\"Setor=Lajes Corporativas<br>PL=%{x}<br>Rent_AC_%=%{y}<br>Codigo=%{customdata[0]}<extra></extra>\",\"legendgroup\":\"Lajes Corporativas\",\"marker\":{\"color\":\"#ab63fa\",\"symbol\":\"circle\"},\"mode\":\"markers\",\"name\":\"Lajes Corporativas\",\"orientation\":\"v\",\"showlegend\":true,\"x\":[26172643.85,250240666.39,253338319.3,159164173.48,728157489.25,106563744.62,156336111.14,160740969.06,814380621.51,45918648.78,47090041.04,360414709.44,66970633.8,185921044.93,60758317.59,112402752.34,264341611.33,255504234.99,300146278.44,998576404.46,1525488938.32,469812255.83,128523568.51,325770617.79,89355196.77,394270353.54,234015134.97,133587253.96,1949751010.85,735371783.06,380191685.75,50111495.65,1181864977.66,330558622.04,486481248.48,296481658.24,336222259.22,396715750.88,87703705.42,173463499.1],\"xaxis\":\"x\",\"y\":[-37.83,-28.29,0.0,0.63,0.42,2.04,-10.9,0.0,-26.64,-31.62,-11.25,-47.8,0.0,0.0,-7.42,-39.31,-10.0,-31.96,-22.76,3.76,-8.07,11.15,-2.32,-0.19,-33.61,-13.11,-19.06,-57.93,-1.62,-1.83,-28.07,-7.82,-10.18,18.42,-14.38,-18.83,-24.25,-10.77,0.14,-2.58],\"yaxis\":\"y\",\"type\":\"scatter\"},{\"customdata\":[[\"RBLG11\"],[\"GGRC11\"],[\"BLMG11\"],[\"RBRL11\"],[\"MGLG11\"],[\"BTLG11\"],[\"ALZR11\"],[\"LVBI11\"],[\"PQAG11\"],[\"BRCO11\"],[\"HGLG11\"],[\"HLOG11\"],[\"VILG11\"],[\"HSLG11\"],[\"FIIP11B\"],[\"VTLT11\"],[\"XPLG11\"],[\"SDIL11\"],[\"PLOG11\"],[\"EURO11\"],[\"LGCP11\"],[\"CXTL11\"]],\"hovertemplate\":\"Setor=Log\\u00edstica<br>PL=%{x}<br>Rent_AC_%=%{y}<br>Codigo=%{customdata[0]}<extra></extra>\",\"legendgroup\":\"Log\\u00edstica\",\"marker\":{\"color\":\"#FFA15A\",\"symbol\":\"circle\"},\"mode\":\"markers\",\"name\":\"Log\\u00edstica\",\"orientation\":\"v\",\"showlegend\":true,\"x\":[68689321.59,1039797046.13,369462477.79,711004292.61,113393396.88,1522704994.65,643082533.83,1352087107.37,795887588.27,1753609368.4,3156088176.65,483225708.31,1703601538.03,1428045971.18,185867652.81,218154340.14,2869525443.04,622149687.44,74524074.15,109006380.05,270529065.22,37044254.22],\"xaxis\":\"x\",\"y\":[-14.15,-12.39,-1.95,-5.8,-30.37,-5.89,-11.78,-6.82,-11.18,-3.21,2.84,-14.44,-6.86,-9.45,-6.47,-10.0,-9.62,-4.95,-12.65,3.77,-3.96,3.06],\"yaxis\":\"y\",\"type\":\"scatter\"},{\"customdata\":[[\"QAGR11\"],[\"MBRF11\"],[\"VSLH11\"],[\"HCTR11\"],[\"FAED11\"],[\"MAXR11\"],[\"TORD11\"],[\"SEQR11\"],[\"RBRP11\"],[\"VGIP11\"],[\"BLCP11\"],[\"VXXV11\"],[\"GESE11B\"],[\"OULG11\"],[\"BLMC11\"],[\"RECX11\"],[\"XPIN11\"],[\"FCFL11\"],[\"BTAL11\"],[\"BTRA11\"],[\"XPCI11\"],[\"URPR11\"],[\"TGAR11\"],[\"HUSC11\"],[\"TRXF11\"],[\"NVIF11B\"],[\"XPPR11\"],[\"SPVJ11\"],[\"HCHG11\"],[\"RBED11\"],[\"RBVA11\"],[\"XPSF11\"],[\"BNFS11\"],[\"CXCE11B\"],[\"RBVO11\"],[\"BBRC11\"]],\"hovertemplate\":\"Setor=Outros<br>PL=%{x}<br>Rent_AC_%=%{y}<br>Codigo=%{customdata[0]}<extra></extra>\",\"legendgroup\":\"Outros\",\"marker\":{\"color\":\"#19d3f3\",\"symbol\":\"circle\"},\"mode\":\"markers\",\"name\":\"Outros\",\"orientation\":\"v\",\"showlegend\":true,\"x\":[300963209.86,113428869.55,290951478.8,2320957178.03,137412142.23,132620586.92,452519294.27,168628334.33,1007350492.52,715092271.19,225882453.79,120962305.1,86162938.46,230794116.97,40334937.4,18534238.67,787121257.78,352533065.59,616134581.99,336025608.31,650592300.58,351769051.16,1440967369.95,113166728.66,575388816.58,60762463.2,606024273.34,680084152.76,113144786.36,286286590.21,1215325229.44,365313274.13,72837554.95,110978299.93,11981470.71,170840969.91],\"xaxis\":\"x\",\"y\":[0.7,1.19,11.74,-4.54,-18.57,-95.25,-9.7,-10.95,-22.85,3.12,-13.67,0.0,0.0,-27.1,3.55,-4.43,-16.25,-4.43,-3.32,-3.72,11.91,7.7,-6.01,-14.45,3.17,0.0,-8.25,0.0,-2.73,-8.93,-0.3,-5.32,11.54,-49.63,-14.64,-4.55],\"yaxis\":\"y\",\"type\":\"scatter\"},{\"customdata\":[[\"BIME11\"],[\"GTLG11\"],[\"CYCR11\"]],\"hovertemplate\":\"Setor=0<br>PL=%{x}<br>Rent_AC_%=%{y}<br>Codigo=%{customdata[0]}<extra></extra>\",\"legendgroup\":\"0\",\"marker\":{\"color\":\"#FF6692\",\"symbol\":\"circle\"},\"mode\":\"markers\",\"name\":\"0\",\"orientation\":\"v\",\"showlegend\":true,\"x\":[55547088.26,711152630.95,50182641.04],\"xaxis\":\"x\",\"y\":[1.05,0.92,1.69],\"yaxis\":\"y\",\"type\":\"scatter\"},{\"customdata\":[[\"MGHT11\"],[\"XPHT11\"],[\"HTMX11\"]],\"hovertemplate\":\"Setor=Hotel<br>PL=%{x}<br>Rent_AC_%=%{y}<br>Codigo=%{customdata[0]}<extra></extra>\",\"legendgroup\":\"Hotel\",\"marker\":{\"color\":\"#B6E880\",\"symbol\":\"circle\"},\"mode\":\"markers\",\"name\":\"Hotel\",\"orientation\":\"v\",\"showlegend\":true,\"x\":[131567014.5,330630764.2,163878952.06],\"xaxis\":\"x\",\"y\":[-2.17,-16.89,-32.26],\"yaxis\":\"y\",\"type\":\"scatter\"},{\"customdata\":[[\"RBDS11\"],[\"KNRE11\"],[\"LFTT11\"],[\"RBIR11\"],[\"YUFI11B\"],[\"HGRS11\"],[\"JFLL11\"],[\"LUGG11\"],[\"VCRR11\"],[\"KINP11\"]],\"hovertemplate\":\"Setor=Residencial<br>PL=%{x}<br>Rent_AC_%=%{y}<br>Codigo=%{customdata[0]}<extra></extra>\",\"legendgroup\":\"Residencial\",\"marker\":{\"color\":\"#FF97FF\",\"symbol\":\"circle\"},\"mode\":\"markers\",\"name\":\"Residencial\",\"orientation\":\"v\",\"showlegend\":true,\"x\":[3258445.22,36692023.18,428081221.15,146658316.94,37579975.83,95106297.8,149192045.36,112403356.09,196132238.25,54227212.11],\"xaxis\":\"x\",\"y\":[0.0,0.0,0.0,0.0,0.0,0.0,-16.43,-6.53,-6.79,1.35],\"yaxis\":\"y\",\"type\":\"scatter\"},{\"customdata\":[[\"HCRI11\"],[\"NSLU11\"],[\"NVHO11\"]],\"hovertemplate\":\"Setor=Hospital<br>PL=%{x}<br>Rent_AC_%=%{y}<br>Codigo=%{customdata[0]}<extra></extra>\",\"legendgroup\":\"Hospital\",\"marker\":{\"color\":\"#FECB52\",\"symbol\":\"circle\"},\"mode\":\"markers\",\"name\":\"Hospital\",\"orientation\":\"v\",\"showlegend\":true,\"x\":[59886299.64,244408065.59,527758066.3],\"xaxis\":\"x\",\"y\":[-15.24,-5.27,-40.47],\"yaxis\":\"y\",\"type\":\"scatter\"}],                        {\"template\":{\"data\":{\"bar\":[{\"error_x\":{\"color\":\"#2a3f5f\"},\"error_y\":{\"color\":\"#2a3f5f\"},\"marker\":{\"line\":{\"color\":\"#E5ECF6\",\"width\":0.5},\"pattern\":{\"fillmode\":\"overlay\",\"size\":10,\"solidity\":0.2}},\"type\":\"bar\"}],\"barpolar\":[{\"marker\":{\"line\":{\"color\":\"#E5ECF6\",\"width\":0.5},\"pattern\":{\"fillmode\":\"overlay\",\"size\":10,\"solidity\":0.2}},\"type\":\"barpolar\"}],\"carpet\":[{\"aaxis\":{\"endlinecolor\":\"#2a3f5f\",\"gridcolor\":\"white\",\"linecolor\":\"white\",\"minorgridcolor\":\"white\",\"startlinecolor\":\"#2a3f5f\"},\"baxis\":{\"endlinecolor\":\"#2a3f5f\",\"gridcolor\":\"white\",\"linecolor\":\"white\",\"minorgridcolor\":\"white\",\"startlinecolor\":\"#2a3f5f\"},\"type\":\"carpet\"}],\"choropleth\":[{\"colorbar\":{\"outlinewidth\":0,\"ticks\":\"\"},\"type\":\"choropleth\"}],\"contour\":[{\"colorbar\":{\"outlinewidth\":0,\"ticks\":\"\"},\"colorscale\":[[0.0,\"#0d0887\"],[0.1111111111111111,\"#46039f\"],[0.2222222222222222,\"#7201a8\"],[0.3333333333333333,\"#9c179e\"],[0.4444444444444444,\"#bd3786\"],[0.5555555555555556,\"#d8576b\"],[0.6666666666666666,\"#ed7953\"],[0.7777777777777778,\"#fb9f3a\"],[0.8888888888888888,\"#fdca26\"],[1.0,\"#f0f921\"]],\"type\":\"contour\"}],\"contourcarpet\":[{\"colorbar\":{\"outlinewidth\":0,\"ticks\":\"\"},\"type\":\"contourcarpet\"}],\"heatmap\":[{\"colorbar\":{\"outlinewidth\":0,\"ticks\":\"\"},\"colorscale\":[[0.0,\"#0d0887\"],[0.1111111111111111,\"#46039f\"],[0.2222222222222222,\"#7201a8\"],[0.3333333333333333,\"#9c179e\"],[0.4444444444444444,\"#bd3786\"],[0.5555555555555556,\"#d8576b\"],[0.6666666666666666,\"#ed7953\"],[0.7777777777777778,\"#fb9f3a\"],[0.8888888888888888,\"#fdca26\"],[1.0,\"#f0f921\"]],\"type\":\"heatmap\"}],\"heatmapgl\":[{\"colorbar\":{\"outlinewidth\":0,\"ticks\":\"\"},\"colorscale\":[[0.0,\"#0d0887\"],[0.1111111111111111,\"#46039f\"],[0.2222222222222222,\"#7201a8\"],[0.3333333333333333,\"#9c179e\"],[0.4444444444444444,\"#bd3786\"],[0.5555555555555556,\"#d8576b\"],[0.6666666666666666,\"#ed7953\"],[0.7777777777777778,\"#fb9f3a\"],[0.8888888888888888,\"#fdca26\"],[1.0,\"#f0f921\"]],\"type\":\"heatmapgl\"}],\"histogram\":[{\"marker\":{\"pattern\":{\"fillmode\":\"overlay\",\"size\":10,\"solidity\":0.2}},\"type\":\"histogram\"}],\"histogram2d\":[{\"colorbar\":{\"outlinewidth\":0,\"ticks\":\"\"},\"colorscale\":[[0.0,\"#0d0887\"],[0.1111111111111111,\"#46039f\"],[0.2222222222222222,\"#7201a8\"],[0.3333333333333333,\"#9c179e\"],[0.4444444444444444,\"#bd3786\"],[0.5555555555555556,\"#d8576b\"],[0.6666666666666666,\"#ed7953\"],[0.7777777777777778,\"#fb9f3a\"],[0.8888888888888888,\"#fdca26\"],[1.0,\"#f0f921\"]],\"type\":\"histogram2d\"}],\"histogram2dcontour\":[{\"colorbar\":{\"outlinewidth\":0,\"ticks\":\"\"},\"colorscale\":[[0.0,\"#0d0887\"],[0.1111111111111111,\"#46039f\"],[0.2222222222222222,\"#7201a8\"],[0.3333333333333333,\"#9c179e\"],[0.4444444444444444,\"#bd3786\"],[0.5555555555555556,\"#d8576b\"],[0.6666666666666666,\"#ed7953\"],[0.7777777777777778,\"#fb9f3a\"],[0.8888888888888888,\"#fdca26\"],[1.0,\"#f0f921\"]],\"type\":\"histogram2dcontour\"}],\"mesh3d\":[{\"colorbar\":{\"outlinewidth\":0,\"ticks\":\"\"},\"type\":\"mesh3d\"}],\"parcoords\":[{\"line\":{\"colorbar\":{\"outlinewidth\":0,\"ticks\":\"\"}},\"type\":\"parcoords\"}],\"pie\":[{\"automargin\":true,\"type\":\"pie\"}],\"scatter\":[{\"marker\":{\"colorbar\":{\"outlinewidth\":0,\"ticks\":\"\"}},\"type\":\"scatter\"}],\"scatter3d\":[{\"line\":{\"colorbar\":{\"outlinewidth\":0,\"ticks\":\"\"}},\"marker\":{\"colorbar\":{\"outlinewidth\":0,\"ticks\":\"\"}},\"type\":\"scatter3d\"}],\"scattercarpet\":[{\"marker\":{\"colorbar\":{\"outlinewidth\":0,\"ticks\":\"\"}},\"type\":\"scattercarpet\"}],\"scattergeo\":[{\"marker\":{\"colorbar\":{\"outlinewidth\":0,\"ticks\":\"\"}},\"type\":\"scattergeo\"}],\"scattergl\":[{\"marker\":{\"colorbar\":{\"outlinewidth\":0,\"ticks\":\"\"}},\"type\":\"scattergl\"}],\"scattermapbox\":[{\"marker\":{\"colorbar\":{\"outlinewidth\":0,\"ticks\":\"\"}},\"type\":\"scattermapbox\"}],\"scatterpolar\":[{\"marker\":{\"colorbar\":{\"outlinewidth\":0,\"ticks\":\"\"}},\"type\":\"scatterpolar\"}],\"scatterpolargl\":[{\"marker\":{\"colorbar\":{\"outlinewidth\":0,\"ticks\":\"\"}},\"type\":\"scatterpolargl\"}],\"scatterternary\":[{\"marker\":{\"colorbar\":{\"outlinewidth\":0,\"ticks\":\"\"}},\"type\":\"scatterternary\"}],\"surface\":[{\"colorbar\":{\"outlinewidth\":0,\"ticks\":\"\"},\"colorscale\":[[0.0,\"#0d0887\"],[0.1111111111111111,\"#46039f\"],[0.2222222222222222,\"#7201a8\"],[0.3333333333333333,\"#9c179e\"],[0.4444444444444444,\"#bd3786\"],[0.5555555555555556,\"#d8576b\"],[0.6666666666666666,\"#ed7953\"],[0.7777777777777778,\"#fb9f3a\"],[0.8888888888888888,\"#fdca26\"],[1.0,\"#f0f921\"]],\"type\":\"surface\"}],\"table\":[{\"cells\":{\"fill\":{\"color\":\"#EBF0F8\"},\"line\":{\"color\":\"white\"}},\"header\":{\"fill\":{\"color\":\"#C8D4E3\"},\"line\":{\"color\":\"white\"}},\"type\":\"table\"}]},\"layout\":{\"annotationdefaults\":{\"arrowcolor\":\"#2a3f5f\",\"arrowhead\":0,\"arrowwidth\":1},\"autotypenumbers\":\"strict\",\"coloraxis\":{\"colorbar\":{\"outlinewidth\":0,\"ticks\":\"\"}},\"colorscale\":{\"diverging\":[[0,\"#8e0152\"],[0.1,\"#c51b7d\"],[0.2,\"#de77ae\"],[0.3,\"#f1b6da\"],[0.4,\"#fde0ef\"],[0.5,\"#f7f7f7\"],[0.6,\"#e6f5d0\"],[0.7,\"#b8e186\"],[0.8,\"#7fbc41\"],[0.9,\"#4d9221\"],[1,\"#276419\"]],\"sequential\":[[0.0,\"#0d0887\"],[0.1111111111111111,\"#46039f\"],[0.2222222222222222,\"#7201a8\"],[0.3333333333333333,\"#9c179e\"],[0.4444444444444444,\"#bd3786\"],[0.5555555555555556,\"#d8576b\"],[0.6666666666666666,\"#ed7953\"],[0.7777777777777778,\"#fb9f3a\"],[0.8888888888888888,\"#fdca26\"],[1.0,\"#f0f921\"]],\"sequentialminus\":[[0.0,\"#0d0887\"],[0.1111111111111111,\"#46039f\"],[0.2222222222222222,\"#7201a8\"],[0.3333333333333333,\"#9c179e\"],[0.4444444444444444,\"#bd3786\"],[0.5555555555555556,\"#d8576b\"],[0.6666666666666666,\"#ed7953\"],[0.7777777777777778,\"#fb9f3a\"],[0.8888888888888888,\"#fdca26\"],[1.0,\"#f0f921\"]]},\"colorway\":[\"#636efa\",\"#EF553B\",\"#00cc96\",\"#ab63fa\",\"#FFA15A\",\"#19d3f3\",\"#FF6692\",\"#B6E880\",\"#FF97FF\",\"#FECB52\"],\"font\":{\"color\":\"#2a3f5f\"},\"geo\":{\"bgcolor\":\"white\",\"lakecolor\":\"white\",\"landcolor\":\"#E5ECF6\",\"showlakes\":true,\"showland\":true,\"subunitcolor\":\"white\"},\"hoverlabel\":{\"align\":\"left\"},\"hovermode\":\"closest\",\"mapbox\":{\"style\":\"light\"},\"paper_bgcolor\":\"white\",\"plot_bgcolor\":\"#E5ECF6\",\"polar\":{\"angularaxis\":{\"gridcolor\":\"white\",\"linecolor\":\"white\",\"ticks\":\"\"},\"bgcolor\":\"#E5ECF6\",\"radialaxis\":{\"gridcolor\":\"white\",\"linecolor\":\"white\",\"ticks\":\"\"}},\"scene\":{\"xaxis\":{\"backgroundcolor\":\"#E5ECF6\",\"gridcolor\":\"white\",\"gridwidth\":2,\"linecolor\":\"white\",\"showbackground\":true,\"ticks\":\"\",\"zerolinecolor\":\"white\"},\"yaxis\":{\"backgroundcolor\":\"#E5ECF6\",\"gridcolor\":\"white\",\"gridwidth\":2,\"linecolor\":\"white\",\"showbackground\":true,\"ticks\":\"\",\"zerolinecolor\":\"white\"},\"zaxis\":{\"backgroundcolor\":\"#E5ECF6\",\"gridcolor\":\"white\",\"gridwidth\":2,\"linecolor\":\"white\",\"showbackground\":true,\"ticks\":\"\",\"zerolinecolor\":\"white\"}},\"shapedefaults\":{\"line\":{\"color\":\"#2a3f5f\"}},\"ternary\":{\"aaxis\":{\"gridcolor\":\"white\",\"linecolor\":\"white\",\"ticks\":\"\"},\"baxis\":{\"gridcolor\":\"white\",\"linecolor\":\"white\",\"ticks\":\"\"},\"bgcolor\":\"#E5ECF6\",\"caxis\":{\"gridcolor\":\"white\",\"linecolor\":\"white\",\"ticks\":\"\"}},\"title\":{\"x\":0.05},\"xaxis\":{\"automargin\":true,\"gridcolor\":\"white\",\"linecolor\":\"white\",\"ticks\":\"\",\"title\":{\"standoff\":15},\"zerolinecolor\":\"white\",\"zerolinewidth\":2},\"yaxis\":{\"automargin\":true,\"gridcolor\":\"white\",\"linecolor\":\"white\",\"ticks\":\"\",\"title\":{\"standoff\":15},\"zerolinecolor\":\"white\",\"zerolinewidth\":2}}},\"xaxis\":{\"anchor\":\"y\",\"domain\":[0.0,1.0],\"title\":{\"text\":\"PL\"}},\"yaxis\":{\"anchor\":\"x\",\"domain\":[0.0,1.0],\"title\":{\"text\":\"Rent_AC_%\"}},\"legend\":{\"title\":{\"text\":\"Setor\"},\"tracegroupgap\":0},\"margin\":{\"t\":60}},                        {\"responsive\": true}                    ).then(function(){\n",
       "                            \n",
       "var gd = document.getElementById('31b5f297-fc65-4d6f-bd57-36aa31be1f8d');\n",
       "var x = new MutationObserver(function (mutations, observer) {{\n",
       "        var display = window.getComputedStyle(gd).display;\n",
       "        if (!display || display === 'none') {{\n",
       "            console.log([gd, 'removed!']);\n",
       "            Plotly.purge(gd);\n",
       "            observer.disconnect();\n",
       "        }}\n",
       "}});\n",
       "\n",
       "// Listen for the removal of the full notebook cells\n",
       "var notebookContainer = gd.closest('#notebook-container');\n",
       "if (notebookContainer) {{\n",
       "    x.observe(notebookContainer, {childList: true});\n",
       "}}\n",
       "\n",
       "// Listen for the clearing of the current output cell\n",
       "var outputEl = gd.closest('.output');\n",
       "if (outputEl) {{\n",
       "    x.observe(outputEl, {childList: true});\n",
       "}}\n",
       "\n",
       "                        })                };                });            </script>        </div>"
      ]
     },
     "metadata": {},
     "output_type": "display_data"
    }
   ],
   "source": [
    "fig = px.scatter(df[df['Rent_AC_%'] < 500],\n",
    "                 x='PL', \n",
    "                 y='Rent_AC_%',\n",
    "                 color='Setor',\n",
    "                 hover_data=['Codigo']\n",
    "                )\n",
    "fig.show()"
   ]
  },
  {
   "cell_type": "code",
   "execution_count": null,
   "id": "350b3a2c",
   "metadata": {},
   "outputs": [],
   "source": []
  }
 ],
 "metadata": {
  "kernelspec": {
   "display_name": "Python 3",
   "language": "python",
   "name": "python3"
  },
  "language_info": {
   "codemirror_mode": {
    "name": "ipython",
    "version": 3
   },
   "file_extension": ".py",
   "mimetype": "text/x-python",
   "name": "python",
   "nbconvert_exporter": "python",
   "pygments_lexer": "ipython3",
   "version": "3.8.8"
  }
 },
 "nbformat": 4,
 "nbformat_minor": 5
}
